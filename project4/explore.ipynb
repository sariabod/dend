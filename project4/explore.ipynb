{
 "cells": [
  {
   "cell_type": "code",
   "execution_count": 1,
   "metadata": {},
   "outputs": [],
   "source": [
    "import configparser\n",
    "from datetime import datetime\n",
    "import os\n",
    "from pyspark.sql import SparkSession\n",
    "from pyspark.sql.functions import udf, col\n",
    "from pyspark.sql.functions import year, month, dayofmonth, hour, weekofyear, date_format\n",
    "from pyspark.sql import functions as F\n",
    "from pyspark.sql import types as T\n",
    "from datetime import datetime\n",
    "\n",
    "config = configparser.ConfigParser()\n",
    "config.read('dl.cfg')\n",
    "\n",
    "os.environ['AWS_ACCESS_KEY_ID']=config['AWS']['KEY']\n",
    "os.environ['AWS_SECRET_ACCESS_KEY']=config['AWS']['SECRET']"
   ]
  },
  {
   "cell_type": "code",
   "execution_count": 3,
   "metadata": {},
   "outputs": [],
   "source": [
    "input_data = config['S3']['IN_PATH']\n",
    "output_data = config['S3']['OUT_PATH']\n",
    "\n",
    "# uncomment for local files\n",
    "input_data = 'input'\n",
    "output_data = 'output'"
   ]
  },
  {
   "cell_type": "code",
   "execution_count": 4,
   "metadata": {},
   "outputs": [],
   "source": [
    "def create_spark_session():\n",
    "    spark = SparkSession \\\n",
    "        .builder \\\n",
    "        .config(\"spark.jars.packages\", \"org.apache.hadoop:hadoop-aws:2.7.0\") \\\n",
    "        .getOrCreate()\n",
    "    return spark"
   ]
  },
  {
   "cell_type": "code",
   "execution_count": 5,
   "metadata": {},
   "outputs": [],
   "source": [
    "spark = create_spark_session()"
   ]
  },
  {
   "cell_type": "code",
   "execution_count": 6,
   "metadata": {},
   "outputs": [],
   "source": [
    "def process_song_data(spark, input_data, output_data):\n",
    "    # get filepath to song data file\n",
    "    song_data = '{}/song_data/*/*/*/*.json'.format(input_data)\n",
    "\n",
    "    # read song data file\n",
    "    df = spark.read.json(song_data)\n",
    "    \n",
    "    # extract columns to create songs table\n",
    "    songs_table = df.select('song_id','title','artist_id','year','duration')\n",
    "\n",
    "    # write songs table to parquet files partitioned by year and artist\n",
    "    songs_table.write.parquet(\"{}/songs_table\".format(output_data),mode=\"overwrite\")\n",
    "\n",
    "    # extract columns to create artists table\n",
    "    artists_table = df.select('artist_id','artist_name','artist_location','artist_latitude','artist_longitude')\n",
    "\n",
    "    # write artists table to parquet files\n",
    "    artists_table.write.parquet(\"{}/artists_table\".format(output_data),mode=\"overwrite\")"
   ]
  },
  {
   "cell_type": "code",
   "execution_count": 15,
   "metadata": {},
   "outputs": [],
   "source": [
    "def process_log_data(spark, input_data, output_data):\n",
    "    # get filepath to log data file\n",
    "    log_data = '{}/log_data/*.json'.format(input_data)\n",
    "\n",
    "    # read log data file\n",
    "    df = spark.read.json(log_data)\n",
    "\n",
    "    # filter by actions for song plays\n",
    "    df = df.where(col(\"page\").isin({\"NextSong\"}))\n",
    "\n",
    "    # extract columns for users table\n",
    "    users_table = df.select('userId', 'firstName', 'lastName', 'gender', 'level')\n",
    "\n",
    "    # write users table to parquet files\n",
    "    users_table.write.parquet(\"{}/users_table\".format(output_data),mode=\"overwrite\")\n",
    "    \n",
    "    # turn milli into seconds epoch\n",
    "    df = df.withColumn('ts', col('ts')/1000)\n",
    "    \n",
    "    #convert epoch to text\n",
    "    df = df.withColumn('timestamp', F.date_format(df.ts.cast(dataType=T.TimestampType()), \n",
    "                                                  \"yyyy-MM-dd hh:mm:ss\"))\n",
    "    df = df.withColumn('datetime', F.date_format(df.ts.cast(dataType=T.TimestampType()), \n",
    "                                                 \"yyyy-MM-dd\"))\n",
    "    #convert text to timestamp and datatype\n",
    "    df = df.withColumn('timestamp', F.to_date(df.timestamp.cast(dataType=T.TimestampType())))\n",
    "    df = df.withColumn('datetime', F.to_date(df.datetime.cast(dataType=T.DateType())))\n",
    "    df = df.withColumn('hour', F.hour(df.timestamp))\n",
    "    df = df.withColumn('day', F.dayofyear(df.datetime))\n",
    "    df = df.withColumn('week', F.weekofyear(df.datetime))\n",
    "    df = df.withColumn('month', F.month(df.datetime))\n",
    "    df = df.withColumn('year', F.year(df.datetime))\n",
    "    df = df.withColumn('weekday', F.when((F.dayofweek(df.datetime) == 0) | \n",
    "                                         (F.dayofweek(df.datetime) == 1) | \n",
    "                                         (F.dayofweek(df.datetime) == 7), 0).otherwise(1))\n",
    "    \n",
    "    # extract columns to create time table\n",
    "    time_table = df.select('ts', 'datetime','hour','day','week','month','year','weekday')\n",
    "\n",
    "    # write time table to parquet files partitioned by year and month\n",
    "    time_table.write.parquet(\"{}/time_table\".format(output_data),mode=\"overwrite\")\n",
    "\n",
    "    # read in song data to use for songplays table\n",
    "    songoutput = '{}/songs_table/*'.format(output_data)\n",
    "    song_df = spark.read.parquet(\"s3a://dend-project4/songs_table/*\")\n",
    "    ldf = df.alias('ldf')\n",
    "    sdf = song_df.alias('sdf')\n",
    "    left_join_log_song = ldf.join(sdf, ldf.song == sdf.title, how='left')\n",
    "\n",
    "    # extract columns from joined song and log datasets to create songplays table\n",
    "    songplays_table = left_join_log_song.select('timestamp', 'userId', 'level', 'song_id', 'artist_id', 'sessionId', 'location', 'userAgent')\n",
    "\n",
    "    # write songplays table to parquet files partitioned by year and month\n",
    "    songplays_table.write.parquet(\"{}/songplays_table\".format(output_data),mode=\"overwrite\")"
   ]
  },
  {
   "cell_type": "code",
   "execution_count": null,
   "metadata": {},
   "outputs": [],
   "source": [
    "process_song_data(spark, input_data, output_data)"
   ]
  },
  {
   "cell_type": "code",
   "execution_count": 16,
   "metadata": {},
   "outputs": [],
   "source": [
    "process_log_data(spark, input_data, output_data)"
   ]
  },
  {
   "cell_type": "code",
   "execution_count": null,
   "metadata": {},
   "outputs": [],
   "source": []
  },
  {
   "cell_type": "code",
   "execution_count": null,
   "metadata": {},
   "outputs": [],
   "source": []
  }
 ],
 "metadata": {
  "kernelspec": {
   "display_name": "Python [conda env:udacity]",
   "language": "python",
   "name": "conda-env-udacity-py"
  },
  "language_info": {
   "codemirror_mode": {
    "name": "ipython",
    "version": 3
   },
   "file_extension": ".py",
   "mimetype": "text/x-python",
   "name": "python",
   "nbconvert_exporter": "python",
   "pygments_lexer": "ipython3",
   "version": "3.6.8"
  }
 },
 "nbformat": 4,
 "nbformat_minor": 2
}
