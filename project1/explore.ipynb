{
 "cells": [
  {
   "cell_type": "code",
   "execution_count": 3,
   "metadata": {},
   "outputs": [],
   "source": [
    "import pandas as pd\n",
    "import json"
   ]
  },
  {
   "cell_type": "code",
   "execution_count": 6,
   "metadata": {},
   "outputs": [],
   "source": [
    "with open('data/song_data/A/A/A/TRAAAAW128F429D538.json') as json_file:  \n",
    "    song_data = json.load(json_file)"
   ]
  },
  {
   "cell_type": "code",
   "execution_count": 7,
   "metadata": {},
   "outputs": [
    {
     "data": {
      "text/plain": [
       "{'num_songs': 1,\n",
       " 'artist_id': 'ARD7TVE1187B99BFB1',\n",
       " 'artist_latitude': None,\n",
       " 'artist_longitude': None,\n",
       " 'artist_location': 'California - LA',\n",
       " 'artist_name': 'Casual',\n",
       " 'song_id': 'SOMZWCG12A8C13C480',\n",
       " 'title': \"I Didn't Mean To\",\n",
       " 'duration': 218.93179,\n",
       " 'year': 0}"
      ]
     },
     "execution_count": 7,
     "metadata": {},
     "output_type": "execute_result"
    }
   ],
   "source": [
    "song_data"
   ]
  },
  {
   "cell_type": "code",
   "execution_count": 16,
   "metadata": {},
   "outputs": [],
   "source": [
    "log_data = []\n",
    "with open('data/log_data/2018/11/2018-11-01-events.json') as json_file:  \n",
    "    for line in json_file:\n",
    "        #print(line)\n",
    "        log_data.append(json.loads(line))"
   ]
  },
  {
   "cell_type": "code",
   "execution_count": 21,
   "metadata": {},
   "outputs": [
    {
     "data": {
      "text/plain": [
       "{'artist': 'Mr Oizo',\n",
       " 'auth': 'Logged In',\n",
       " 'firstName': 'Kaylee',\n",
       " 'gender': 'F',\n",
       " 'itemInSession': 3,\n",
       " 'lastName': 'Summers',\n",
       " 'length': 144.03873,\n",
       " 'level': 'free',\n",
       " 'location': 'Phoenix-Mesa-Scottsdale, AZ',\n",
       " 'method': 'PUT',\n",
       " 'page': 'NextSong',\n",
       " 'registration': 1540344794796.0,\n",
       " 'sessionId': 139,\n",
       " 'song': 'Flat 55',\n",
       " 'status': 200,\n",
       " 'ts': 1541106352796,\n",
       " 'userAgent': '\"Mozilla/5.0 (Windows NT 6.1; WOW64) AppleWebKit/537.36 (KHTML, like Gecko) Chrome/35.0.1916.153 Safari/537.36\"',\n",
       " 'userId': '8'}"
      ]
     },
     "execution_count": 21,
     "metadata": {},
     "output_type": "execute_result"
    }
   ],
   "source": [
    "log_data[4]"
   ]
  },
  {
   "cell_type": "code",
   "execution_count": null,
   "metadata": {},
   "outputs": [],
   "source": []
  }
 ],
 "metadata": {
  "kernelspec": {
   "display_name": "Python [conda env:udacity]",
   "language": "python",
   "name": "conda-env-udacity-py"
  },
  "language_info": {
   "codemirror_mode": {
    "name": "ipython",
    "version": 3
   },
   "file_extension": ".py",
   "mimetype": "text/x-python",
   "name": "python",
   "nbconvert_exporter": "python",
   "pygments_lexer": "ipython3",
   "version": "3.6.8"
  }
 },
 "nbformat": 4,
 "nbformat_minor": 2
}
